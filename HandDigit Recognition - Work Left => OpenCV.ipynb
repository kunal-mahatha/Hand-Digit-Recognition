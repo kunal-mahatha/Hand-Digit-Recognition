{
 "cells": [
  {
   "cell_type": "code",
   "execution_count": 9,
   "metadata": {},
   "outputs": [],
   "source": [
    "import cv2 as cv\n",
    "import numpy as np\n",
    "import matplotlib.pyplot as plt\n",
    "import tensorflow as tf\n",
    "import os\n",
    "from PIL import Image"
   ]
  },
  {
   "cell_type": "code",
   "execution_count": 2,
   "metadata": {},
   "outputs": [],
   "source": [
    "mnist = tf.keras.datasets.mnist\n",
    "(x_train, y_train), (x_test, y_test) = mnist.load_data()"
   ]
  },
  {
   "cell_type": "code",
   "execution_count": 3,
   "metadata": {},
   "outputs": [],
   "source": [
    "x_train = tf.keras.utils.normalize(x_train, axis=1)\n",
    "x_test = tf.keras.utils.normalize(x_test, axis=1)"
   ]
  },
  {
   "cell_type": "markdown",
   "metadata": {},
   "source": [
    "## MODEL "
   ]
  },
  {
   "cell_type": "code",
   "execution_count": 4,
   "metadata": {},
   "outputs": [],
   "source": [
    "model = tf.keras.models.Sequential()\n",
    "model.add(tf.keras.layers.Flatten(input_shape = (28,28)))\n",
    "model.add(tf.keras.layers.Dense(units=128, activation = 'relu'))\n",
    "model.add(tf.keras.layers.Dense(units=128, activation = 'relu'))\n",
    "model.add(tf.keras.layers.Dense(units=10, activation = 'softmax'))"
   ]
  },
  {
   "cell_type": "code",
   "execution_count": 5,
   "metadata": {},
   "outputs": [],
   "source": [
    "model.compile(optimizer = 'adam', loss = 'sparse_categorical_crossentropy', metrics = ['accuracy'])"
   ]
  },
  {
   "cell_type": "code",
   "execution_count": 6,
   "metadata": {},
   "outputs": [
    {
     "name": "stdout",
     "output_type": "stream",
     "text": [
      "Epoch 1/20\n",
      "1875/1875 [==============================] - 2s 806us/step - loss: 0.4714 - accuracy: 0.8686\n",
      "Epoch 2/20\n",
      "1875/1875 [==============================] - 1s 773us/step - loss: 0.1128 - accuracy: 0.9655\n",
      "Epoch 3/20\n",
      "1875/1875 [==============================] - 2s 806us/step - loss: 0.0736 - accuracy: 0.9769\n",
      "Epoch 4/20\n",
      "1875/1875 [==============================] - 1s 788us/step - loss: 0.0508 - accuracy: 0.9842\n",
      "Epoch 5/20\n",
      "1875/1875 [==============================] - 1s 775us/step - loss: 0.0396 - accuracy: 0.9868\n",
      "Epoch 6/20\n",
      "1875/1875 [==============================] - 1s 778us/step - loss: 0.0321 - accuracy: 0.9901\n",
      "Epoch 7/20\n",
      "1875/1875 [==============================] - 1s 773us/step - loss: 0.0246 - accuracy: 0.9919\n",
      "Epoch 8/20\n",
      "1875/1875 [==============================] - 1s 773us/step - loss: 0.0211 - accuracy: 0.9930\n",
      "Epoch 9/20\n",
      "1875/1875 [==============================] - 1s 773us/step - loss: 0.0150 - accuracy: 0.9952\n",
      "Epoch 10/20\n",
      "1875/1875 [==============================] - 1s 775us/step - loss: 0.0150 - accuracy: 0.9943\n",
      "Epoch 11/20\n",
      "1875/1875 [==============================] - 2s 812us/step - loss: 0.0125 - accuracy: 0.9956\n",
      "Epoch 12/20\n",
      "1875/1875 [==============================] - 2s 863us/step - loss: 0.0087 - accuracy: 0.9970\n",
      "Epoch 13/20\n",
      "1875/1875 [==============================] - 1s 767us/step - loss: 0.0091 - accuracy: 0.9968\n",
      "Epoch 14/20\n",
      "1875/1875 [==============================] - 1s 769us/step - loss: 0.0085 - accuracy: 0.9967\n",
      "Epoch 15/20\n",
      "1875/1875 [==============================] - 2s 850us/step - loss: 0.0088 - accuracy: 0.9970\n",
      "Epoch 16/20\n",
      "1875/1875 [==============================] - 1s 793us/step - loss: 0.0085 - accuracy: 0.9967\n",
      "Epoch 17/20\n",
      "1875/1875 [==============================] - 1s 784us/step - loss: 0.0058 - accuracy: 0.9983\n",
      "Epoch 18/20\n",
      "1875/1875 [==============================] - 2s 800us/step - loss: 0.0070 - accuracy: 0.9976\n",
      "Epoch 19/20\n",
      "1875/1875 [==============================] - 2s 802us/step - loss: 0.0057 - accuracy: 0.9981\n",
      "Epoch 20/20\n",
      "1875/1875 [==============================] - 2s 801us/step - loss: 0.0082 - accuracy: 0.9973\n"
     ]
    },
    {
     "data": {
      "text/plain": [
       "<tensorflow.python.keras.callbacks.History at 0x7f9a3bf05dc0>"
      ]
     },
     "execution_count": 6,
     "metadata": {},
     "output_type": "execute_result"
    }
   ],
   "source": [
    "model.fit(x_train, y_train, epochs = 20)"
   ]
  },
  {
   "cell_type": "code",
   "execution_count": 7,
   "metadata": {},
   "outputs": [
    {
     "name": "stdout",
     "output_type": "stream",
     "text": [
      "313/313 [==============================] - 0s 572us/step - loss: 0.1341 - accuracy: 0.9759\n",
      "0.13412486016750336\n",
      "0.9758999943733215\n"
     ]
    }
   ],
   "source": [
    "accuracy, loss = model.evaluate(x_test, y_test)\n",
    "print(accuracy)\n",
    "print(loss)"
   ]
  },
  {
   "cell_type": "code",
   "execution_count": 35,
   "metadata": {},
   "outputs": [
    {
     "name": "stdout",
     "output_type": "stream",
     "text": [
      "INFO:tensorflow:Assets written to: digits.model/assets\n"
     ]
    }
   ],
   "source": [
    "model.save('digits.model')"
   ]
  },
  {
   "cell_type": "code",
   "execution_count": 8,
   "metadata": {},
   "outputs": [
    {
     "name": "stdout",
     "output_type": "stream",
     "text": [
      "Model: \"sequential\"\n",
      "_________________________________________________________________\n",
      "Layer (type)                 Output Shape              Param #   \n",
      "=================================================================\n",
      "flatten (Flatten)            (None, 784)               0         \n",
      "_________________________________________________________________\n",
      "dense (Dense)                (None, 128)               100480    \n",
      "_________________________________________________________________\n",
      "dense_1 (Dense)              (None, 128)               16512     \n",
      "_________________________________________________________________\n",
      "dense_2 (Dense)              (None, 10)                1290      \n",
      "=================================================================\n",
      "Total params: 118,282\n",
      "Trainable params: 118,282\n",
      "Non-trainable params: 0\n",
      "_________________________________________________________________\n"
     ]
    }
   ],
   "source": [
    "model.summary()"
   ]
  },
  {
   "cell_type": "code",
   "execution_count": 25,
   "metadata": {},
   "outputs": [
    {
     "name": "stdout",
     "output_type": "stream",
     "text": [
      "The result is : 3\n"
     ]
    },
    {
     "data": {
      "image/png": "[encoded data removed]",
      "text/plain": [
       "<Figure size 432x288 with 1 Axes>"
      ]
     },
     "metadata": {
      "needs_background": "light"
     },
     "output_type": "display_data"
    }
   ],
   "source": [
    "for x in range(3, 4):\n",
    "    img = cv.imread(f\"{x}.png\")[:,:,0]\n",
    "    img = np.invert(np.array([img]))\n",
    "    prediction = model.predict(img)\n",
    "    print(f\"The result is : {np.argmax(prediction)}\")\n",
    "    plt.imshow(img[0], cmap=plt.cm.binary)"
   ]
  },
  {
   "cell_type": "code",
   "execution_count": null,
   "metadata": {},
   "outputs": [],
   "source": []
  }
 ],
 "metadata": {
  "kernelspec": {
   "display_name": "Python 3",
   "language": "python",
   "name": "python3"
  },
  "language_info": {
   "codemirror_mode": {
    "name": "ipython",
    "version": 3
   },
   "file_extension": ".py",
   "mimetype": "text/x-python",
   "name": "python",
   "nbconvert_exporter": "python",
   "pygments_lexer": "ipython3",
   "version": "3.8.3"
  }
 },
 "nbformat": 4,
 "nbformat_minor": 4
}
